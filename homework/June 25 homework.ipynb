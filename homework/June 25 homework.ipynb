{
  "nbformat": 4,
  "nbformat_minor": 0,
  "metadata": {
    "colab": {
      "provenance": []
    },
    "kernelspec": {
      "name": "python3",
      "display_name": "Python 3"
    },
    "language_info": {
      "name": "python"
    }
  },
  "cells": [
    {
      "cell_type": "code",
      "execution_count": null,
      "metadata": {
        "id": "Y1XuDEdF4qAf"
      },
      "outputs": [],
      "source": []
    },
    {
      "cell_type": "code",
      "source": [],
      "metadata": {
        "id": "WppKCHE-4tW-"
      },
      "execution_count": null,
      "outputs": []
    },
    {
      "cell_type": "markdown",
      "source": [
        "## Exercise 1: Variables and Types\n",
        "### Problem 1: Variable Assignment\n",
        "Description: Assign values to different types of variables and print them.\n",
        "\n",
        "* Assign the string \"Alice\" to a variable named name.\n",
        "* Assign the integer 30 to a variable named age.\n",
        "* Assign the integer 384400 to a variable named distance_to_moon_km.\n",
        "Print each variable with a descriptive message."
      ],
      "metadata": {
        "id": "ogJ0S1ta4uDc"
      }
    },
    {
      "cell_type": "code",
      "source": [],
      "metadata": {
        "id": "i4Bohj9540rJ"
      },
      "execution_count": null,
      "outputs": []
    },
    {
      "cell_type": "markdown",
      "source": [
        "### Problem 2: Type Checking\n",
        "Description: Check and print the type of each variable using the type() function.\n",
        "\n",
        "* Use the type() function to check the type of name, age, and distance_to_moon_km.\n",
        "* Print the type of each variable with a descriptive message."
      ],
      "metadata": {
        "id": "Kzg-JQVj5WNF"
      }
    },
    {
      "cell_type": "code",
      "source": [],
      "metadata": {
        "id": "y6iaC7wM5auc"
      },
      "execution_count": null,
      "outputs": []
    },
    {
      "cell_type": "markdown",
      "source": [
        "## Exercise 2: Arithmetic Operations and Order of Precedence\n",
        "### Problem 1: Basic Arithmetic\n",
        "Description: Perform basic arithmetic operations on two numbers and print the results.\n",
        "\n",
        "* Assign the value 10 to a variable a and 5 to a variable b.\n",
        "* Perform addition, subtraction, multiplication, division, and exponentiation on these variables.\n",
        "* Print each result with a descriptive message."
      ],
      "metadata": {
        "id": "haemy5d_5bTt"
      }
    },
    {
      "cell_type": "code",
      "source": [],
      "metadata": {
        "id": "tlpzR9N_5tII"
      },
      "execution_count": null,
      "outputs": []
    },
    {
      "cell_type": "code",
      "source": [],
      "metadata": {
        "id": "Gh7BzA7D5w-V"
      },
      "execution_count": null,
      "outputs": []
    },
    {
      "cell_type": "markdown",
      "source": [
        "### Problem 2: Order of Precedence\n",
        "Description: Calculate an expression involving multiple operations and demonstrate the order of precedence.\n",
        "\n",
        "* Use the variables a and b from the previous exercise.\n",
        "* Calculate the expression (a + b) * (a - b) / a.\n",
        "* Print the result with a descriptive message.\n"
      ],
      "metadata": {
        "id": "KlwpoWEd5xni"
      }
    },
    {
      "cell_type": "code",
      "source": [],
      "metadata": {
        "id": "Cp5GKKyw532c"
      },
      "execution_count": null,
      "outputs": []
    },
    {
      "cell_type": "markdown",
      "source": [
        "## Exercise 3: Boolean Logic and Comparison Operators\n",
        "Problem 1: Comparison Operations\n",
        "Description:\n",
        "\n",
        "* Assign the value 15 to a variable x and 20 to a variable y.\n",
        "* Perform comparisons: equal (==), not equal (!=), greater than (>), and less than or equal to (<=).\n",
        "* Print the result of each comparison with a descriptive message."
      ],
      "metadata": {
        "id": "VfOnXqcK58vc"
      }
    },
    {
      "cell_type": "code",
      "source": [],
      "metadata": {
        "id": "fg3_4-mN5-Rw"
      },
      "execution_count": null,
      "outputs": []
    },
    {
      "cell_type": "markdown",
      "source": [
        "### Problem 2: Combine boolean values using and, or, and not operators.\n",
        "\n",
        "* Use the age variable from Exercise 1 and assign the boolean value True to a variable has_permission.\n",
        "I Create a variable is_adult that checks if age is greater than 18.\n",
        "* Use the and operator to create a variable can_enter that is True only if is_adult and has_permission are both True.\n",
        "* Use the not operator to create a variable cannot_enter that is the opposite of can_enter.\n",
        "* Print the results with descriptive messages."
      ],
      "metadata": {
        "id": "qio3s8_9_7Kr"
      }
    },
    {
      "cell_type": "code",
      "source": [],
      "metadata": {
        "id": "AHAM34P___sz"
      },
      "execution_count": null,
      "outputs": []
    },
    {
      "cell_type": "markdown",
      "source": [
        "## Exercise 4: Working with Strings\n",
        "### Problem 1: String Manipulation\n",
        "Description:\n",
        "\n",
        "* Assign the string \"Hello, \" to a variable greeting and \"Alice\" to a variable name.\n",
        "* Concatenate the two strings and assign the result to a variable full_greeting.\n",
        "* Convert full_greeting to uppercase and lowercase, and assign these to shout_greeting and whisper_greeting respectively.\n",
        "* Print each string with a descriptive message."
      ],
      "metadata": {
        "id": "3Lme9uTJ9xAF"
      }
    },
    {
      "cell_type": "code",
      "source": [],
      "metadata": {
        "id": "qQWG9b629zCs"
      },
      "execution_count": null,
      "outputs": []
    },
    {
      "cell_type": "markdown",
      "source": [
        "### Problem 2: String Methods\n",
        "\n",
        "\n",
        "* Assign the sentence \"The quick brown fox jumps over the lazy dog\" to a variable sentence.\n",
        "* Split the sentence into a list of words and assign to words.\n",
        "Find the number of words and assign to word_count.\n"
      ],
      "metadata": {
        "id": "nftwVpHu90Cc"
      }
    },
    {
      "cell_type": "code",
      "source": [],
      "metadata": {
        "id": "RPa9-ExR-rUc"
      },
      "execution_count": null,
      "outputs": []
    }
  ]
}